{
 "cells": [
  {
   "cell_type": "markdown",
   "id": "1807f6e6",
   "metadata": {},
   "source": [
    "# Modelo autorregresivo AR\\(p\\)\n",
    "### Hipótesis\n",
    "El valor actual de la serie puede explicarse como una combinación lineal de sus $p$ valores pasados, más un error aleatorio.\n",
    "\n",
    "$X_t = c + \\displaystyle\\sum_{i=1}^{p} \\phi_i X_{t-i} + \\epsilon_t$\n",
    "\n",
    "Donde:\n",
    "\n",
    "- $( X_t )$ es el valor de la serie en el tiempo $( t )$\n",
    "- $( c )$ es una constante\n",
    "- $( \\phi_i )$ son los coeficientes autorregresivos\n",
    "- $( \\epsilon_t )$ es el error aleatorio (ruido blanco)\n",
    "\n",
    "\n",
    "Usamos el backshift operator $B$  que aplica un desfase de una unidad en el tiempo: $B^kX_t = X_{t-k} ​$\n",
    "\n",
    "$X_t = c + \\displaystyle\\sum_{i=1}^{p} \\phi_i B^i X_t + \\epsilon_t$\n",
    "\n",
    "Esto nos permite reescribir nuestra ecuación en notación polinómica:\n",
    "\n",
    "$\\phi(B)X_t= c + \\epsilon_t$ "
   ]
  },
  {
   "cell_type": "code",
   "execution_count": 1,
   "id": "8c59f3da",
   "metadata": {},
   "outputs": [],
   "source": [
    "import pandas as pd\n",
    "import numpy as np\n",
    "import matplotlib.pyplot as plt\n",
    "import MetaTrader5 as mt5\n",
    "from datetime import datetime\n"
   ]
  },
  {
   "cell_type": "code",
   "execution_count": 3,
   "id": "ba778beb",
   "metadata": {},
   "outputs": [
    {
     "data": {
      "text/plain": [
       "True"
      ]
     },
     "execution_count": 3,
     "metadata": {},
     "output_type": "execute_result"
    }
   ],
   "source": [
    "# Configuramos MT5\n",
    "# Este último debe de estar abierto para que funcione (me ha costado 3h entenderlo)\n",
    "\n",
    "import os\n",
    "from dotenv import load_dotenv\n",
    "\n",
    "load_dotenv()\n",
    "\n",
    "MT5_LOGIN = os.getenv('MT5_LOGIN')\n",
    "MT5_PWD = os.getenv('MT5_PWD')\n",
    "\n",
    "mt5.initialize()\n",
    "\n",
    "mt5.login(int(MT5_LOGIN), MT5_PWD,'MetaQuotes-Demo')"
   ]
  },
  {
   "cell_type": "code",
   "execution_count": 34,
   "id": "621a08cc",
   "metadata": {},
   "outputs": [
    {
     "data": {
      "text/html": [
       "<div>\n",
       "<style scoped>\n",
       "    .dataframe tbody tr th:only-of-type {\n",
       "        vertical-align: middle;\n",
       "    }\n",
       "\n",
       "    .dataframe tbody tr th {\n",
       "        vertical-align: top;\n",
       "    }\n",
       "\n",
       "    .dataframe thead th {\n",
       "        text-align: right;\n",
       "    }\n",
       "</style>\n",
       "<table border=\"1\" class=\"dataframe\">\n",
       "  <thead>\n",
       "    <tr style=\"text-align: right;\">\n",
       "      <th></th>\n",
       "      <th>open</th>\n",
       "      <th>high</th>\n",
       "      <th>low</th>\n",
       "      <th>close</th>\n",
       "      <th>tick_volume</th>\n",
       "      <th>spread</th>\n",
       "      <th>log_returns</th>\n",
       "    </tr>\n",
       "    <tr>\n",
       "      <th>time</th>\n",
       "      <th></th>\n",
       "      <th></th>\n",
       "      <th></th>\n",
       "      <th></th>\n",
       "      <th></th>\n",
       "      <th></th>\n",
       "      <th></th>\n",
       "    </tr>\n",
       "  </thead>\n",
       "  <tbody>\n",
       "    <tr>\n",
       "      <th>2015-01-05 00:00:00</th>\n",
       "      <td>2053.10</td>\n",
       "      <td>2054.00</td>\n",
       "      <td>2016.00</td>\n",
       "      <td>2024.50</td>\n",
       "      <td>11893</td>\n",
       "      <td>0</td>\n",
       "      <td>-0.013979</td>\n",
       "    </tr>\n",
       "    <tr>\n",
       "      <th>2015-01-06 00:00:00</th>\n",
       "      <td>2024.70</td>\n",
       "      <td>2030.20</td>\n",
       "      <td>1991.50</td>\n",
       "      <td>2001.70</td>\n",
       "      <td>14371</td>\n",
       "      <td>0</td>\n",
       "      <td>-0.011326</td>\n",
       "    </tr>\n",
       "    <tr>\n",
       "      <th>2015-01-07 00:00:00</th>\n",
       "      <td>2001.10</td>\n",
       "      <td>2030.00</td>\n",
       "      <td>2000.90</td>\n",
       "      <td>2027.00</td>\n",
       "      <td>11994</td>\n",
       "      <td>0</td>\n",
       "      <td>0.012560</td>\n",
       "    </tr>\n",
       "    <tr>\n",
       "      <th>2015-01-08 00:00:00</th>\n",
       "      <td>2027.20</td>\n",
       "      <td>2064.80</td>\n",
       "      <td>2026.70</td>\n",
       "      <td>2059.80</td>\n",
       "      <td>9008</td>\n",
       "      <td>0</td>\n",
       "      <td>0.016052</td>\n",
       "    </tr>\n",
       "    <tr>\n",
       "      <th>2015-01-09 00:00:00</th>\n",
       "      <td>2060.30</td>\n",
       "      <td>2068.30</td>\n",
       "      <td>2037.70</td>\n",
       "      <td>2041.20</td>\n",
       "      <td>11503</td>\n",
       "      <td>0</td>\n",
       "      <td>-0.009071</td>\n",
       "    </tr>\n",
       "    <tr>\n",
       "      <th>...</th>\n",
       "      <td>...</td>\n",
       "      <td>...</td>\n",
       "      <td>...</td>\n",
       "      <td>...</td>\n",
       "      <td>...</td>\n",
       "      <td>...</td>\n",
       "      <td>...</td>\n",
       "    </tr>\n",
       "    <tr>\n",
       "      <th>2025-05-02 22:55:00</th>\n",
       "      <td>5687.15</td>\n",
       "      <td>5687.35</td>\n",
       "      <td>5681.10</td>\n",
       "      <td>5682.65</td>\n",
       "      <td>370</td>\n",
       "      <td>40</td>\n",
       "      <td>-0.000888</td>\n",
       "    </tr>\n",
       "    <tr>\n",
       "      <th>2025-05-02 22:56:00</th>\n",
       "      <td>5682.60</td>\n",
       "      <td>5684.50</td>\n",
       "      <td>5682.25</td>\n",
       "      <td>5683.80</td>\n",
       "      <td>317</td>\n",
       "      <td>40</td>\n",
       "      <td>0.000202</td>\n",
       "    </tr>\n",
       "    <tr>\n",
       "      <th>2025-05-02 22:57:00</th>\n",
       "      <td>5683.75</td>\n",
       "      <td>5686.70</td>\n",
       "      <td>5683.75</td>\n",
       "      <td>5686.35</td>\n",
       "      <td>355</td>\n",
       "      <td>40</td>\n",
       "      <td>0.000449</td>\n",
       "    </tr>\n",
       "    <tr>\n",
       "      <th>2025-05-02 22:58:00</th>\n",
       "      <td>5686.15</td>\n",
       "      <td>5686.20</td>\n",
       "      <td>5680.70</td>\n",
       "      <td>5681.55</td>\n",
       "      <td>353</td>\n",
       "      <td>40</td>\n",
       "      <td>-0.000844</td>\n",
       "    </tr>\n",
       "    <tr>\n",
       "      <th>2025-05-02 22:59:00</th>\n",
       "      <td>5681.45</td>\n",
       "      <td>5689.60</td>\n",
       "      <td>5681.25</td>\n",
       "      <td>5681.85</td>\n",
       "      <td>385</td>\n",
       "      <td>40</td>\n",
       "      <td>0.000053</td>\n",
       "    </tr>\n",
       "  </tbody>\n",
       "</table>\n",
       "<p>2746765 rows × 7 columns</p>\n",
       "</div>"
      ],
      "text/plain": [
       "                        open     high      low    close  tick_volume  spread  \\\n",
       "time                                                                           \n",
       "2015-01-05 00:00:00  2053.10  2054.00  2016.00  2024.50        11893       0   \n",
       "2015-01-06 00:00:00  2024.70  2030.20  1991.50  2001.70        14371       0   \n",
       "2015-01-07 00:00:00  2001.10  2030.00  2000.90  2027.00        11994       0   \n",
       "2015-01-08 00:00:00  2027.20  2064.80  2026.70  2059.80         9008       0   \n",
       "2015-01-09 00:00:00  2060.30  2068.30  2037.70  2041.20        11503       0   \n",
       "...                      ...      ...      ...      ...          ...     ...   \n",
       "2025-05-02 22:55:00  5687.15  5687.35  5681.10  5682.65          370      40   \n",
       "2025-05-02 22:56:00  5682.60  5684.50  5682.25  5683.80          317      40   \n",
       "2025-05-02 22:57:00  5683.75  5686.70  5683.75  5686.35          355      40   \n",
       "2025-05-02 22:58:00  5686.15  5686.20  5680.70  5681.55          353      40   \n",
       "2025-05-02 22:59:00  5681.45  5689.60  5681.25  5681.85          385      40   \n",
       "\n",
       "                     log_returns  \n",
       "time                              \n",
       "2015-01-05 00:00:00    -0.013979  \n",
       "2015-01-06 00:00:00    -0.011326  \n",
       "2015-01-07 00:00:00     0.012560  \n",
       "2015-01-08 00:00:00     0.016052  \n",
       "2015-01-09 00:00:00    -0.009071  \n",
       "...                          ...  \n",
       "2025-05-02 22:55:00    -0.000888  \n",
       "2025-05-02 22:56:00     0.000202  \n",
       "2025-05-02 22:57:00     0.000449  \n",
       "2025-05-02 22:58:00    -0.000844  \n",
       "2025-05-02 22:59:00     0.000053  \n",
       "\n",
       "[2746765 rows x 7 columns]"
      ]
     },
     "execution_count": 34,
     "metadata": {},
     "output_type": "execute_result"
    }
   ],
   "source": [
    "from_date = datetime(2015, 1, 1)\n",
    "to_date = datetime.now()\n",
    "\n",
    "rates = mt5.copy_rates_range(\"US500\", mt5.TIMEFRAME_M1, from_date, to_date)\n",
    "\n",
    "data = pd.DataFrame(rates)\n",
    "data = data.drop('real_volume', axis=1)\n",
    "data['time'] = pd.to_datetime(data['time'], unit='s')\n",
    "data[\"log_returns\"] = np.log(data['close']/data['close'].shift(1))\n",
    "data.dropna(inplace=True)\n",
    "data.set_index('time', inplace=True)\n",
    "\n",
    "data"
   ]
  },
  {
   "cell_type": "code",
   "execution_count": 35,
   "id": "7aed3124",
   "metadata": {},
   "outputs": [
    {
     "data": {
      "text/plain": [
       "[<matplotlib.lines.Line2D at 0x1d3ac0f42d0>]"
      ]
     },
     "execution_count": 35,
     "metadata": {},
     "output_type": "execute_result"
    },
    {
     "data": {
      "image/png": "[encoded data removed]",
      "text/plain": [
       "<Figure size 640x480 with 1 Axes>"
      ]
     },
     "metadata": {},
     "output_type": "display_data"
    }
   ],
   "source": [
    "\"\"\"from statsmodels.tsa.stattools import adfuller\n",
    "\n",
    "result = adfuller(data['log_returns'])\n",
    "\n",
    "print('ADF Statistic:', result[0])\n",
    "print('p-value:', result[1])\n",
    "print('Critical Values:')\n",
    "for key, value in result[4].items():\n",
    "    print(f'   {key}, {value}')\"\"\"\n",
    "\n",
    "# Después de 20 min runneando el test seguimos sin resultados.\n",
    "# Vamos a suponer que el dataset es estacional por razones prácticas.\n",
    "\n",
    "plt.plot(data['log_returns'])\n"
   ]
  },
  {
   "cell_type": "code",
   "execution_count": 36,
   "id": "210fdcb3",
   "metadata": {},
   "outputs": [],
   "source": [
    "train_size = 0.7\n",
    "\n",
    "# Separamos el dataset para hacer backtesting\n",
    "# Habria en el futuro de concretar un pipeline con cross-validation\n",
    "\n",
    "train_data = data.copy().iloc[:int(len(data) * train_size)]\n",
    "test_data  = data.copy().iloc[int(len(data) * train_size):]"
   ]
  },
  {
   "cell_type": "code",
   "execution_count": 39,
   "id": "2310b5ac",
   "metadata": {},
   "outputs": [
    {
     "data": {
      "image/png": "[encoded data removed]",
      "text/plain": [
       "<Figure size 640x480 with 1 Axes>"
      ]
     },
     "metadata": {},
     "output_type": "display_data"
    }
   ],
   "source": [
    "from statsmodels.graphics.tsaplots import plot_pacf\n",
    "\n",
    "fig, ax = plt.subplots()\n",
    "\n",
    "plot_pacf(train_data['log_returns'], ax=ax, method='ywm',\n",
    "           lags=100, alpha=0.0001, use_vlines=True, zero=False)\n",
    "\n",
    "ax.set_ylim(-0.05, 0.05)\n",
    "\n",
    "plt.show()"
   ]
  }
 ],
 "metadata": {
  "kernelspec": {
   "display_name": "Python 3",
   "language": "python",
   "name": "python3"
  },
  "language_info": {
   "codemirror_mode": {
    "name": "ipython",
    "version": 3
   },
   "file_extension": ".py",
   "mimetype": "text/x-python",
   "name": "python",
   "nbconvert_exporter": "python",
   "pygments_lexer": "ipython3",
   "version": "3.13.1"
  }
 },
 "nbformat": 4,
 "nbformat_minor": 5
}
