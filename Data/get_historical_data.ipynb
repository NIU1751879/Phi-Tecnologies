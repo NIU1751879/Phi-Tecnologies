{
 "cells": [
  {
   "cell_type": "code",
   "execution_count": 16,
   "id": "2c6385ea",
   "metadata": {},
   "outputs": [],
   "source": [
    "import pandas as pd\n",
    "import numpy as np\n",
    "import MetaTrader5 as mt5\n",
    "from datetime import datetime"
   ]
  },
  {
   "cell_type": "code",
   "execution_count": 2,
   "id": "1f00fd04",
   "metadata": {},
   "outputs": [],
   "source": [
    "import os\n",
    "from dotenv import load_dotenv\n",
    "\n",
    "load_dotenv()\n",
    "\n",
    "MT5_LOGIN = os.getenv('MT5_LOGIN')\n",
    "MT5_PWD = os.getenv('MT5_PWD')"
   ]
  },
  {
   "cell_type": "code",
   "execution_count": 3,
   "id": "732acae9",
   "metadata": {},
   "outputs": [
    {
     "data": {
      "text/plain": [
       "True"
      ]
     },
     "execution_count": 3,
     "metadata": {},
     "output_type": "execute_result"
    }
   ],
   "source": [
    "mt5.initialize()\n",
    "\n",
    "mt5.login(int(MT5_LOGIN), MT5_PWD,'MetaQuotes-Demo')"
   ]
  },
  {
   "cell_type": "code",
   "execution_count": null,
   "id": "8654f34f",
   "metadata": {},
   "outputs": [
    {
     "data": {
      "text/plain": [
       "array([(1641337200, 1.12847, 1.12848, 0., 0, 1641337200067, 130, 0.),\n",
       "       (1641337200, 1.12845, 1.12846, 0., 0, 1641337200772, 134, 0.),\n",
       "       (1641337200, 1.12842, 1.12843, 0., 0, 1641337200907, 134, 0.), ...,\n",
       "       (1641423599, 1.13108, 1.13109, 0., 0, 1641423599100, 134, 0.),\n",
       "       (1641423599, 1.13109, 1.1311 , 0., 0, 1641423599836, 134, 0.),\n",
       "       (1641423599, 1.1311 , 1.13111, 0., 0, 1641423599943, 134, 0.)],\n",
       "      dtype=[('time', '<i8'), ('bid', '<f8'), ('ask', '<f8'), ('last', '<f8'), ('volume', '<u8'), ('time_msc', '<i8'), ('flags', '<u4'), ('volume_real', '<f8')])"
      ]
     },
     "execution_count": 4,
     "metadata": {},
     "output_type": "execute_result"
    }
   ],
   "source": [
    "from_date = datetime(2022, 1, 5)\n",
    "to_date = datetime(2022, 1, 6)\n",
    "\n",
    "ticks = mt5.copy_ticks_range(\"EURUSD\", from_date, to_date, mt5.COPY_TICKS_ALL)"
   ]
  },
  {
   "cell_type": "code",
   "execution_count": 29,
   "id": "799d14a3",
   "metadata": {},
   "outputs": [
    {
     "data": {
      "text/html": [
       "<div>\n",
       "<style scoped>\n",
       "    .dataframe tbody tr th:only-of-type {\n",
       "        vertical-align: middle;\n",
       "    }\n",
       "\n",
       "    .dataframe tbody tr th {\n",
       "        vertical-align: top;\n",
       "    }\n",
       "\n",
       "    .dataframe thead th {\n",
       "        text-align: right;\n",
       "    }\n",
       "</style>\n",
       "<table border=\"1\" class=\"dataframe\">\n",
       "  <thead>\n",
       "    <tr style=\"text-align: right;\">\n",
       "      <th></th>\n",
       "      <th>time</th>\n",
       "      <th>bid</th>\n",
       "      <th>ask</th>\n",
       "      <th>time_msc</th>\n",
       "      <th>flags</th>\n",
       "    </tr>\n",
       "  </thead>\n",
       "  <tbody>\n",
       "    <tr>\n",
       "      <th>0</th>\n",
       "      <td>2022-01-04 23:00:00</td>\n",
       "      <td>1.12847</td>\n",
       "      <td>1.12848</td>\n",
       "      <td>1641337200067</td>\n",
       "      <td>10000010</td>\n",
       "    </tr>\n",
       "    <tr>\n",
       "      <th>1</th>\n",
       "      <td>2022-01-04 23:00:00</td>\n",
       "      <td>1.12845</td>\n",
       "      <td>1.12846</td>\n",
       "      <td>1641337200772</td>\n",
       "      <td>10000110</td>\n",
       "    </tr>\n",
       "    <tr>\n",
       "      <th>2</th>\n",
       "      <td>2022-01-04 23:00:00</td>\n",
       "      <td>1.12842</td>\n",
       "      <td>1.12843</td>\n",
       "      <td>1641337200907</td>\n",
       "      <td>10000110</td>\n",
       "    </tr>\n",
       "    <tr>\n",
       "      <th>3</th>\n",
       "      <td>2022-01-04 23:00:01</td>\n",
       "      <td>1.12842</td>\n",
       "      <td>1.12847</td>\n",
       "      <td>1641337201109</td>\n",
       "      <td>00000100</td>\n",
       "    </tr>\n",
       "    <tr>\n",
       "      <th>4</th>\n",
       "      <td>2022-01-04 23:00:01</td>\n",
       "      <td>1.12843</td>\n",
       "      <td>1.12848</td>\n",
       "      <td>1641337201733</td>\n",
       "      <td>10000110</td>\n",
       "    </tr>\n",
       "    <tr>\n",
       "      <th>...</th>\n",
       "      <td>...</td>\n",
       "      <td>...</td>\n",
       "      <td>...</td>\n",
       "      <td>...</td>\n",
       "      <td>...</td>\n",
       "    </tr>\n",
       "    <tr>\n",
       "      <th>62585</th>\n",
       "      <td>2022-01-05 22:59:58</td>\n",
       "      <td>1.13108</td>\n",
       "      <td>1.13109</td>\n",
       "      <td>1641423598169</td>\n",
       "      <td>10000110</td>\n",
       "    </tr>\n",
       "    <tr>\n",
       "      <th>62586</th>\n",
       "      <td>2022-01-05 22:59:58</td>\n",
       "      <td>1.13109</td>\n",
       "      <td>1.13110</td>\n",
       "      <td>1641423598506</td>\n",
       "      <td>10000110</td>\n",
       "    </tr>\n",
       "    <tr>\n",
       "      <th>62587</th>\n",
       "      <td>2022-01-05 22:59:59</td>\n",
       "      <td>1.13108</td>\n",
       "      <td>1.13109</td>\n",
       "      <td>1641423599100</td>\n",
       "      <td>10000110</td>\n",
       "    </tr>\n",
       "    <tr>\n",
       "      <th>62588</th>\n",
       "      <td>2022-01-05 22:59:59</td>\n",
       "      <td>1.13109</td>\n",
       "      <td>1.13110</td>\n",
       "      <td>1641423599836</td>\n",
       "      <td>10000110</td>\n",
       "    </tr>\n",
       "    <tr>\n",
       "      <th>62589</th>\n",
       "      <td>2022-01-05 22:59:59</td>\n",
       "      <td>1.13110</td>\n",
       "      <td>1.13111</td>\n",
       "      <td>1641423599943</td>\n",
       "      <td>10000110</td>\n",
       "    </tr>\n",
       "  </tbody>\n",
       "</table>\n",
       "<p>62590 rows × 5 columns</p>\n",
       "</div>"
      ],
      "text/plain": [
       "                     time      bid      ask       time_msc     flags\n",
       "0     2022-01-04 23:00:00  1.12847  1.12848  1641337200067  10000010\n",
       "1     2022-01-04 23:00:00  1.12845  1.12846  1641337200772  10000110\n",
       "2     2022-01-04 23:00:00  1.12842  1.12843  1641337200907  10000110\n",
       "3     2022-01-04 23:00:01  1.12842  1.12847  1641337201109  00000100\n",
       "4     2022-01-04 23:00:01  1.12843  1.12848  1641337201733  10000110\n",
       "...                   ...      ...      ...            ...       ...\n",
       "62585 2022-01-05 22:59:58  1.13108  1.13109  1641423598169  10000110\n",
       "62586 2022-01-05 22:59:58  1.13109  1.13110  1641423598506  10000110\n",
       "62587 2022-01-05 22:59:59  1.13108  1.13109  1641423599100  10000110\n",
       "62588 2022-01-05 22:59:59  1.13109  1.13110  1641423599836  10000110\n",
       "62589 2022-01-05 22:59:59  1.13110  1.13111  1641423599943  10000110\n",
       "\n",
       "[62590 rows x 5 columns]"
      ]
     },
     "execution_count": 29,
     "metadata": {},
     "output_type": "execute_result"
    }
   ],
   "source": [
    "data = pd.DataFrame(ticks)\n",
    "data['time'] = pd.to_datetime(data['time'], unit='s')\n",
    "data = data.drop(['last', 'volume', 'volume_real'], axis=1)\n",
    "data['flags'] = data['flags'].apply(lambda x: bin(x)[2:].zfill(8))\n",
    "\n",
    "data"
   ]
  }
 ],
 "metadata": {
  "kernelspec": {
   "display_name": "Python 3",
   "language": "python",
   "name": "python3"
  },
  "language_info": {
   "codemirror_mode": {
    "name": "ipython",
    "version": 3
   },
   "file_extension": ".py",
   "mimetype": "text/x-python",
   "name": "python",
   "nbconvert_exporter": "python",
   "pygments_lexer": "ipython3",
   "version": "3.11.4"
  }
 },
 "nbformat": 4,
 "nbformat_minor": 5
}
