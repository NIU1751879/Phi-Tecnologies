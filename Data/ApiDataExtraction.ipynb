{
 "cells": [
  {
   "cell_type": "markdown",
   "id": "95a2cd40-8af5-4bdb-a67c-d1cb753660c5",
   "metadata": {},
   "source": [
    "# API Data Extraction for Financial Analysis\n",
    "\n",
    "1. [What is API Data Extraction](#what-is-api-data-extraction)\n",
    "\n",
    "2. [Types of Financial Data Available via APIs](#types-of-financial-data-available-via-apis)\n",
    "\n",
    "3. [Data Quality and Bias Considerations](#data-quality-and-bias-considerations)\n",
    "\n",
    "4. [How to Extract Data from MetaTrader](#how-to-extract-data-from-metatrader)\n",
    "\n",
    "5. [How to Extract Data from yfinance](#how-to-extract-data-from-yfinance)\n",
    "\n",
    "6. [How to Extract Data from Alpaca API](#how-to-extract-data-from-alpaca-api)\n",
    "\n",
    "7. [Data Handling and Preprocessing](#data-handling-and-preprocessing)\n",
    "\n",
    "8. [Summary and Best Practices](#summary-and-best-practices)\n"
   ]
  },
  {
   "cell_type": "markdown",
   "id": "7295f288",
   "metadata": {},
   "source": [
    "I will be putting information and examples while I develope my differents strategies"
   ]
  },
  {
   "cell_type": "markdown",
   "id": "2d1f0645-921e-4a20-8a98-45f554f93fa2",
   "metadata": {
    "jp-MarkdownHeadingCollapsed": true
   },
   "source": [
    "## What is API Data Extraction\n",
    "\n",
    "It is the process of automatically retrieving data from external platforms or services through an API (Application Programming Interface), allowing access to financial information without manual downloads.\n",
    "s.\n",
    "\n",
    "---"
   ]
  },
  {
   "cell_type": "markdown",
   "id": "f208491f-86f0-477b-b6b1-564ddec284e5",
   "metadata": {},
   "source": [
    "## Types of Financial Data Available via APIs\n",
    "\n",
    "APIs primarily provide access to **historical financial data**, which is essential for backtesting and analysis. This typically includes:\n",
    "\n",
    "---"
   ]
  },
  {
   "cell_type": "markdown",
   "id": "a225dbd5",
   "metadata": {},
   "source": [
    "1. Historical price data (OHLCV – Open, High, Low, Close, Volume)"
   ]
  },
  {
   "cell_type": "code",
   "execution_count": 1,
   "id": "e7b9cae8",
   "metadata": {},
   "outputs": [],
   "source": [
    "#EXAMPLE"
   ]
  },
  {
   "cell_type": "markdown",
   "id": "5753a1c4",
   "metadata": {},
   "source": [
    "2. Real-time or delayed market data (quotes, trades)"
   ]
  },
  {
   "cell_type": "code",
   "execution_count": 2,
   "id": "93e96f57",
   "metadata": {},
   "outputs": [],
   "source": [
    "#EXAMPLE"
   ]
  },
  {
   "cell_type": "markdown",
   "id": "c5881d00",
   "metadata": {},
   "source": [
    "3. Fundamental data (e.g., earnings, financial statements)"
   ]
  },
  {
   "cell_type": "code",
   "execution_count": 3,
   "id": "20b296cd",
   "metadata": {},
   "outputs": [],
   "source": [
    "#EXAMPLE"
   ]
  },
  {
   "cell_type": "markdown",
   "id": "871b05ff",
   "metadata": {},
   "source": [
    "4. Technical indicators (e.g., moving averages, RSI)"
   ]
  },
  {
   "cell_type": "code",
   "execution_count": 4,
   "id": "dc1bca4e",
   "metadata": {},
   "outputs": [],
   "source": [
    "#EXAMPLE "
   ]
  },
  {
   "cell_type": "markdown",
   "id": "22ab6702",
   "metadata": {},
   "source": [
    "5. Alternative data (e.g., news sentiment, social media activity)"
   ]
  },
  {
   "cell_type": "code",
   "execution_count": 5,
   "id": "86dba3ab",
   "metadata": {},
   "outputs": [],
   "source": [
    "#EXAMPLE"
   ]
  },
  {
   "cell_type": "markdown",
   "id": "56d76214",
   "metadata": {},
   "source": [
    "Most APIs used in quantitative finance focus on **historical price series** for stocks, ETFs, forex, and cryptocurrencies.\n",
    "\n",
    "---"
   ]
  },
  {
   "cell_type": "markdown",
   "id": "2c86bc1a-513b-49d9-a3b4-b304ea825d8e",
   "metadata": {},
   "source": [
    "## Data Quality and Bias Considerations\n",
    "\n",
    "When working with financial data APIs, it's important to separate **data quality issues** from **modeling and bias-related treatments**. Below are two categories that highlight both aspects.\n",
    "\n",
    "---"
   ]
  },
  {
   "cell_type": "markdown",
   "id": "66bad8a0",
   "metadata": {},
   "source": [
    "### A. Data Quality Issues\n",
    "\n",
    "These concern the **accuracy, completeness, and consistency** of the raw data:\n",
    "\n",
    "---"
   ]
  },
  {
   "cell_type": "markdown",
   "id": "6716db0e",
   "metadata": {},
   "source": [
    "1. **Stock Splits**  \n",
    "   If not adjusted, they can cause artificial price drops and mislead return calculations.  \n",
    "   *Use APIs that provide adjusted historical prices or apply manual split adjustments.*\n"
   ]
  },
  {
   "cell_type": "code",
   "execution_count": null,
   "id": "01e629a1",
   "metadata": {},
   "outputs": [
    {
     "ename": "NameError",
     "evalue": "name 'mt5' is not defined",
     "output_type": "error",
     "traceback": [
      "\u001b[1;31m---------------------------------------------------------------------------\u001b[0m",
      "\u001b[1;31mNameError\u001b[0m                                 Traceback (most recent call last)",
      "Cell \u001b[1;32mIn[6], line 2\u001b[0m\n\u001b[0;32m      1\u001b[0m \u001b[38;5;66;03m# Initialize and login to MT5\u001b[39;00m\n\u001b[1;32m----> 2\u001b[0m mt5\u001b[38;5;241m.\u001b[39minitialize()\n\u001b[0;32m      3\u001b[0m mt5\u001b[38;5;241m.\u001b[39mlogin(\u001b[38;5;28mint\u001b[39m(MT5_LOGIN), MT5_PWD, \u001b[38;5;124m'\u001b[39m\u001b[38;5;124mMetaQuotes-Demo\u001b[39m\u001b[38;5;124m'\u001b[39m)\n\u001b[0;32m      5\u001b[0m \u001b[38;5;66;03m# Fetch IGE data\u001b[39;00m\n",
      "\u001b[1;31mNameError\u001b[0m: name 'mt5' is not defined"
     ]
    },
    {
     "ename": "",
     "evalue": "",
     "output_type": "error",
     "traceback": [
      "\u001b[1;31mThe Kernel crashed while executing code in the current cell or a previous cell. \n",
      "\u001b[1;31mPlease review the code in the cell(s) to identify a possible cause of the failure. \n",
      "\u001b[1;31mClick <a href='https://aka.ms/vscodeJupyterKernelCrash'>here</a> for more info. \n",
      "\u001b[1;31mView Jupyter <a href='command:jupyter.viewOutput'>log</a> for further details."
     ]
    }
   ],
   "source": [
    "\n",
    "\n",
    "\n",
    "# Initialize and login to MT5\n",
    "mt5.initialize()\n",
    "mt5.login(int(MT5_LOGIN), MT5_PWD, 'MetaQuotes-Demo')\n",
    "\n",
    "# Fetch IGE data\n",
    "from_date = datetime(2006, 4, 4)\n",
    "to_date = datetime(2020, 4, 9)\n",
    "symbol1 = \"EWC\"\n",
    "symbol2 = \"EWA\"\n",
    "symbol3 = \"IGE\"\n",
    "timeframe = mt5.TIMEFRAME_H1\n",
    "\n",
    "\n",
    "# ===========================================\n",
    "# Fetch historical data for each symbol\n",
    "# ===========================================\n",
    "bars_ewc = mt5.copy_rates_range(symbol1, timeframe, from_date, to_date)\n",
    "bars_ewa = mt5.copy_rates_range(symbol2, timeframe, from_date, to_date)\n",
    "bars_ige = mt5.copy_rates_range(symbol3, timeframe, from_date, to_date)\n",
    "\n",
    "\n",
    "# Convert to DataFrames\n",
    "ewc = pd.DataFrame(bars_ewc)\n",
    "ewa = pd.DataFrame(bars_ewa)\n",
    "IGE = pd.DataFrame(bars_ige)\n",
    "\n",
    "# Process dates\n",
    "ewc['time'] = pd.to_datetime(ewc['time'], unit='s')\n",
    "ewa['time'] = pd.to_datetime(ewa['time'], unit='s')\n",
    "IGE['time'] = pd.to_datetime(IGE['time'], unit='s')\n",
    "\n",
    "# Set the index as time\n",
    "ewc.set_index('time', inplace=True)\n",
    "ewa.set_index('time', inplace=True)\n",
    "IGE.set_index('time', inplace=True)\n",
    "IGE.sort_index(inplace=True)\n",
    "IGE['close'] = IGE['close'].fillna(method='ffill').fillna(method='bfill')  # Fill NaNs\n",
    "\n",
    "mt5.shutdown()\n",
    "\n",
    "\n",
    "\n",
    "# Get common dates between all three series\n",
    "common_dates = IGE.index.intersection(ewc.index).intersection(ewa.index)\n",
    "IGE = IGE.loc[common_dates]\n",
    "ewc = ewc.loc[common_dates]\n",
    "ewa = ewa.loc[common_dates]\n",
    "\n",
    "# Combine the series into a DataFrame\n",
    "X = pd.concat([IGE['close'], ewc['close'], ewa['close']], axis=1)\n",
    "X.columns = ['IGE', 'EWC', 'EWA']\n",
    "\n",
    "#graph\n",
    "plt.figure(figsize=(14, 6))\n",
    "X.plot(ax=plt.gca())\n",
    "plt.title('Price Series: IGE, EWC, EWA')\n",
    "plt.xlabel('Time')\n",
    "plt.ylabel('Price')\n",
    "plt.legend(['IGE', 'EWC', 'EWA'])\n",
    "plt.grid(True)\n",
    "plt.tight_layout()\n",
    "plt.show()\n",
    "# Explanation of IGE's stock split in 2009\n",
    "print(\"In 2009, the IGE investment fund underwent a stock split. This means that the number of shares in circulation increased, which affected its price, but not the total investment value. This split occurred specifically in May 2009.\")\n",
    "\n",
    "\n",
    "\n",
    "\n"
   ]
  },
  {
   "cell_type": "markdown",
   "id": "8bb8b14b",
   "metadata": {},
   "source": [
    "2. **Stock/Bond Interest Payments**  \n",
    "   Missing dividends or coupons distort total returns.  \n",
    "   *Use total return series when available or combine price data with distribution info.*"
   ]
  },
  {
   "cell_type": "code",
   "execution_count": null,
   "id": "a85cb7fe",
   "metadata": {},
   "outputs": [],
   "source": [
    "#EXAMPLE WILL BE PUT HERE"
   ]
  },
  {
   "cell_type": "markdown",
   "id": "0cae58d9",
   "metadata": {},
   "source": [
    "3. **Survivorship Bias**  \n",
    "   Omits delisted or failed assets, overestimating strategy performance.  \n",
    "   *Use survivorship-bias-free datasets that include inactive securities.*"
   ]
  },
  {
   "cell_type": "code",
   "execution_count": null,
   "id": "cd8740b6",
   "metadata": {},
   "outputs": [],
   "source": [
    "#EXAMPLE WILL BE PUT HERE"
   ]
  },
  {
   "cell_type": "markdown",
   "id": "2143d4c6",
   "metadata": {},
   "source": [
    "4. **Primary vs Consolidated Data**  \n",
    "   Using only primary exchange data may miss trades from other venues.  \n",
    "   *Use consolidated feeds for a full market view.*"
   ]
  },
  {
   "cell_type": "code",
   "execution_count": null,
   "id": "ddc2c7aa",
   "metadata": {},
   "outputs": [],
   "source": [
    "#EXAMPLE WILL BE PUT HERE"
   ]
  },
  {
   "cell_type": "markdown",
   "id": "07f830f2",
   "metadata": {},
   "source": [
    "5. **Venue Currency & Market Fragmentation**  \n",
    "   Data from different venues or currencies may be inconsistent or incomplete.  \n",
    "   *Ensure currency normalization and use APIs with aggregated data when possible.*"
   ]
  },
  {
   "cell_type": "code",
   "execution_count": null,
   "id": "0895e518",
   "metadata": {},
   "outputs": [],
   "source": [
    "#EXAMPLE WILL BE PUT HERE"
   ]
  },
  {
   "cell_type": "markdown",
   "id": "417982eb",
   "metadata": {},
   "source": [
    "\n",
    "6. **Short Sale Restrictions & Illiquidity**  \n",
    "   Historical restrictions on shorting or low liquidity can skew performance.  \n",
    "   *Verify shorting availability and minimum liquidity thresholds.*"
   ]
  },
  {
   "cell_type": "code",
   "execution_count": null,
   "id": "c4a49875",
   "metadata": {},
   "outputs": [],
   "source": [
    "#EXAMPLE WILL BE PUT HERE"
   ]
  },
  {
   "cell_type": "markdown",
   "id": "a4e9b650",
   "metadata": {},
   "source": [
    "7. **Futures Continuous Contracts & Adjustment Methods**  \n",
    "   Creating continuous series may involve back-adjustments that affect signals.  \n",
    "   *Be consistent with adjustment type (backward/forward/none) and strategy alignment.*"
   ]
  },
  {
   "cell_type": "code",
   "execution_count": null,
   "id": "05a2b04e",
   "metadata": {},
   "outputs": [],
   "source": [
    "#EXAMPLE WILL BE PUT HERE"
   ]
  },
  {
   "cell_type": "markdown",
   "id": "cba28f54",
   "metadata": {},
   "source": [
    "8. **Futures Close Price: Settlement vs Last Traded**  \n",
    "   Settlement prices may differ from the last traded, impacting daily PnL.  \n",
    "   *Choose one method consistently and understand its implications for strategy logic.*"
   ]
  },
  {
   "cell_type": "code",
   "execution_count": null,
   "id": "1659617f",
   "metadata": {},
   "outputs": [],
   "source": [
    " #EXAMPLE WILL BE PUT HERE"
   ]
  },
  {
   "cell_type": "markdown",
   "id": "266b15b9",
   "metadata": {},
   "source": [
    "### B. Strategy and Bias Treatments\n",
    "\n",
    "These relate to **how data is used** in strategy design and backtesting:\n",
    "\n",
    "---"
   ]
  },
  {
   "cell_type": "markdown",
   "id": "8b14020a",
   "metadata": {},
   "source": [
    "1. **Look-Ahead Bias**  \n",
    "   Using future data for decision-making invalidates results.  \n",
    "   *Always restrict data access to what would be known at each historical point.*"
   ]
  },
  {
   "cell_type": "code",
   "execution_count": null,
   "id": "b01b3736",
   "metadata": {},
   "outputs": [],
   "source": [
    "#EXAMPLE WILL BE PUT HERE"
   ]
  },
  {
   "cell_type": "markdown",
   "id": "1d5833d4",
   "metadata": {},
   "source": [
    "2. **Data Snooping Bias**  \n",
    "   Overfitting results by testing many strategies on the same dataset.  \n",
    "   *Use out-of-sample testing, cross-validation, and penalize complexity.*"
   ]
  },
  {
   "cell_type": "code",
   "execution_count": null,
   "id": "be1b75cd",
   "metadata": {},
   "outputs": [],
   "source": [
    "#EXAMPLE WILL BE PUT HERE\n"
   ]
  },
  {
   "cell_type": "markdown",
   "id": "f3bcd72f",
   "metadata": {},
   "source": [
    "\n",
    "3. **Strategy vs Long-Only Strategy**  \n",
    "   Biases may affect long/short and long-only strategies differently.  \n",
    "   *Compare both variants to evaluate robustness and detect overfitting.*"
   ]
  },
  {
   "cell_type": "code",
   "execution_count": null,
   "id": "f1a179ae",
   "metadata": {},
   "outputs": [],
   "source": [
    "#EXAMPLE WILL BE PUT HERE"
   ]
  },
  {
   "cell_type": "markdown",
   "id": "e64d83bc-0519-4b9b-a536-8e8d1fc1ec2a",
   "metadata": {},
   "source": [
    "# Download Data\n",
    "\n",
    "Data can be downloaded from sources such as Yahoo Finance, Polygon, Metatrader...\n",
    "\n",
    "---"
   ]
  },
  {
   "cell_type": "markdown",
   "id": "565ec1ad",
   "metadata": {},
   "source": [
    "1. **MetaTrader**  "
   ]
  },
  {
   "cell_type": "markdown",
   "id": "f4d0ccf4",
   "metadata": {},
   "source": [
    " **Libraries**"
   ]
  },
  {
   "cell_type": "code",
   "execution_count": null,
   "id": "51ee52cc",
   "metadata": {},
   "outputs": [],
   "source": [
    "# ===========================================\n",
    "# Import required libraries\n",
    "# ===========================================\n",
    "\n",
    "import pandas as pd  # For data manipulation and analysis (install: pip install pandas)\n",
    "import numpy as np  # For numerical operations (install: pip install numpy)\n",
    "import MetaTrader5 as mt5  # MT5 API to interact with the MetaTrader 5 terminal (install: pip install MetaTrader5)\n",
    "from datetime import datetime  # To work with date/time ranges\n",
    "import os  # For accessing environment variables\n",
    "from dotenv import load_dotenv  # To load sensitive data (login, password) from .env file (install: pip install python-dotenv)"
   ]
  },
  {
   "cell_type": "markdown",
   "id": "655315d1",
   "metadata": {},
   "source": [
    " **Log in**  "
   ]
  },
  {
   "cell_type": "code",
   "execution_count": null,
   "id": "7fe33993",
   "metadata": {},
   "outputs": [
    {
     "data": {
      "text/plain": [
       "True"
      ]
     },
     "execution_count": 115,
     "metadata": {},
     "output_type": "execute_result"
    }
   ],
   "source": [
    "# ===========================================\n",
    "# Load environment variables from .env file\n",
    "# ===========================================\n",
    "# Create a .env file in the same folder and include:\n",
    "# MT5_LOGIN=12345678\n",
    "# MT5_PWD=your_password\n",
    "# This helps protect your credentials.\n",
    "load_dotenv()\n",
    "\n",
    "MT5_LOGIN = os.getenv('MT5_LOGIN')\n",
    "MT5_PWD = os.getenv('MT5_PWD')\n",
    "\n",
    "# ===========================================\n",
    "# Initialize and connect to MetaTrader 5\n",
    "# ===========================================\n",
    "mt5.initialize()\n",
    "\n",
    "# Log in to your MT5 account (make sure MetaTrader 5 is running and connected)\n",
    "# Replace 'MetaQuotes-Demo' with your broker's server if needed\n",
    "mt5.login(int(MT5_LOGIN), MT5_PWD, 'MetaQuotes-Demo')\n"
   ]
  },
  {
   "cell_type": "markdown",
   "id": "230b9259",
   "metadata": {},
   "source": [
    "**Available assets**"
   ]
  },
  {
   "cell_type": "code",
   "execution_count": null,
   "id": "f6f9e7a6",
   "metadata": {},
   "outputs": [
    {
     "name": "stdout",
     "output_type": "stream",
     "text": [
      "Total symbols found: 10466\n",
      "AUDCAD - Australian Dollar vs Canadian Dollar\n",
      "AUDCHF - Australian Dollar vs Swiss Franc\n",
      "AUDDKK - Australian Dollar vs Danish Krona\n",
      "AUDHKD - Australian Dollar vs Hong Kong Dollar\n",
      "AUDHUF - Australian Dollar vs Hungarian Florint\n",
      "AUDJPY - Australian Dollar vs Yen\n",
      "AUDNOK - Australian Dollar vs Norwegian Krona\n",
      "AUDNZD - Australian Dollar vs New Zealand Dollar\n",
      "AUDPLN - Australian Dollar vs Zloty\n",
      "AUDSEK - Australian Dollar vs Sweden Krona\n",
      "AUDSGD - Australian Dollar vs Singapore Dollar\n",
      "AUDTHB - Australian Dollar vs Thai Baht\n",
      "AUDUSD - Australian Dollar vs US Dollar\n",
      "AUDZAR - Australian Dollar vs South African Rand\n",
      "CADCHF - Canadian Dollar vs Swiss Franc\n",
      "CADDKK - Canadian Dollar vs Danish Krone\n",
      "CADJPY - Canadian Dollar vs Yen\n",
      "CADMXN - Canadian Dollar vs Mexican Peso\n",
      "CADNOK - Canadian Dollar vs Norwegian Krona\n",
      "CADPLN - Canadian Dollar vs Zloty\n",
      "CADSEK - Canadian Dollar vs Swedish Krona\n",
      "CADSGD - Canadian Dollar vs Singapore Dollar\n",
      "CHFDKK - Swiss Franc vs Danish Krona\n",
      "CHFHUF - Swiss Franc vs Hungarian Florint\n",
      "CHFJPY - Swiss Franc vs Yen\n",
      "CHFMXN - Swiss Franc vs Mexican Peso\n",
      "CHFNOK - Swiss Franc vs Norwegian Krona\n",
      "CHFPLN - Swiss Franc vs Zloty\n",
      "CHFSEK - Swiss Franc vs Swedish Krona\n",
      "CHFSGD - Swiss Franc vs Singapore Dollar\n",
      "CHFTRY - Swiss Franc vs New Turkish Lira\n",
      "CHFZAR - Swiss Franc vs South African Rand\n",
      "CNHJPY - Chinese Yuan Renminbi vs Japanese Yen\n",
      "DKKJPY - Danish Krona vs Japanese Yen\n",
      "DKKNOK - Danish Krone vs Norwegian Krone\n",
      "DKKSEK - Danish Krone vs Swedish Krona\n",
      "EURAUD - Euro vs Australian Dollar\n",
      "EURCAD - Euro vs Canadian Dollar\n",
      "EURCHF - Euro vs Swiss Franc\n",
      "EURCNH - Euro vs Chinese Yuan Renminbi\n",
      "EURCZK - Euro vs Czech Koruna\n",
      "EURDKK - Euro vs Danish Krone\n",
      "EURGBP - Euro vs Pound Sterling\n",
      "EURHKD - Euro vs Hong Kong Dollar\n",
      "EURHUF - Euro vs Forint\n",
      "EURILS - Euro vs Israeli Shekel\n",
      "EURJPY - Euro vs Yen\n",
      "EURMXN - Euro vs Mexican Peso\n",
      "EURNOK - Euro vs Norwegian Krone\n",
      "EURNZD - Euro vs New Zealand Dollar\n"
     ]
    }
   ],
   "source": [
    "symbols = mt5.symbols_get()\n",
    "\n",
    "nsymbols = 50\n",
    "print(f\"Total symbols found: {len(symbols)}\")\n",
    "for s in symbols[:nsymbols]:  # Print first 50 symbols\n",
    "    print(s.name, \"-\", s.description)\n",
    "\n",
    "\n",
    "#You can implement a search function to identify if it is avaible de asset you need"
   ]
  },
  {
   "cell_type": "markdown",
   "id": "bb60dc05",
   "metadata": {},
   "source": [
    "**Ticks & Bars**"
   ]
  },
  {
   "cell_type": "code",
   "execution_count": null,
   "id": "1b9f7f3f",
   "metadata": {},
   "outputs": [
    {
     "name": "stdout",
     "output_type": "stream",
     "text": [
      "                 time      bid      ask       time_msc     flags\n",
      "0 2022-01-04 23:00:00  1.12847  1.12848  1641337200067  10000010\n",
      "1 2022-01-04 23:00:00  1.12845  1.12846  1641337200772  10000110\n",
      "2 2022-01-04 23:00:00  1.12842  1.12843  1641337200907  10000110\n",
      "3 2022-01-04 23:00:01  1.12842  1.12847  1641337201109  00000100\n",
      "4 2022-01-04 23:00:01  1.12843  1.12848  1641337201733  10000110\n",
      "                 time     open     high      low    close  tick_volume  \\\n",
      "0 2022-01-04 21:21:00  1.12865  1.12874  1.12864  1.12869           22   \n",
      "1 2022-01-04 21:22:00  1.12872  1.12890  1.12872  1.12890           16   \n",
      "2 2022-01-04 21:23:00  1.12890  1.12899  1.12885  1.12894           43   \n",
      "3 2022-01-04 21:24:00  1.12894  1.12900  1.12894  1.12899           28   \n",
      "4 2022-01-04 21:25:00  1.12899  1.12905  1.12898  1.12899           32   \n",
      "\n",
      "   spread  real_volume  \n",
      "0       1            0  \n",
      "1       1            0  \n",
      "2       1            0  \n",
      "3       1            0  \n",
      "4       1            0  \n"
     ]
    },
    {
     "data": {
      "text/plain": [
       "True"
      ]
     },
     "execution_count": 117,
     "metadata": {},
     "output_type": "execute_result"
    }
   ],
   "source": [
    "# ===========================================\n",
    "# Define time range for data request\n",
    "# ===========================================\n",
    "from_date = datetime(2022, 1, 5)\n",
    "to_date = datetime(2022, 1, 6)\n",
    "\n",
    "# ===========================================\n",
    "# Request tick data for a specific symbol (EURUSD)\n",
    "# ===========================================\n",
    "# You can choose COPY_TICKS_ALL, COPY_TICKS_TRADE, or COPY_TICKS_INFO\n",
    "# COPY_TICKS_ALL returns both Bid and Ask ticks\n",
    "ticks = mt5.copy_ticks_range(\"EURUSD\", from_date, to_date, mt5.COPY_TICKS_ALL)\n",
    "\n",
    "# ===========================================\n",
    "# Create a pandas DataFrame to analyze the data\n",
    "# ===========================================\n",
    "data = pd.DataFrame(ticks)\n",
    "\n",
    "# Convert 'time' from UNIX timestamp to readable datetime format\n",
    "data['time'] = pd.to_datetime(data['time'], unit='s')\n",
    "\n",
    "# Drop columns we don't need for now\n",
    "data = data.drop(['last', 'volume', 'volume_real'], axis=1)\n",
    "\n",
    "# Decode the 'flags' column (bitmask showing tick type: bid, ask, trade)\n",
    "# Each flag is represented as an 8-bit binary string\n",
    "data['flags'] = data['flags'].apply(lambda x: bin(x)[2:].zfill(8))\n",
    "\n",
    "# Display the first few rows\n",
    "print(data.head())\n",
    "\n",
    "# ===========================================\n",
    "# Example: How to request OHLC bars instead of ticks\n",
    "# ===========================================\n",
    "# Request 100 1-minute bars of EURUSD starting from a specific date:\n",
    "bars = mt5.copy_rates_from(\"EURUSD\", mt5.TIMEFRAME_M1, datetime(2022, 1, 5), 100)\n",
    "\n",
    "# Convert to DataFrame and format time\n",
    "bars_df = pd.DataFrame(bars)\n",
    "bars_df['time'] = pd.to_datetime(bars_df['time'], unit='s')\n",
    "\n",
    "print(bars_df.head())\n",
    "\n",
    "mt5.shutdown()\n",
    "\n",
    "# ===========================================\n",
    "# 📘 More info and documentation:\n",
    "# Official MetaTrader 5 Python API docs:\n",
    "# https://www.mql5.com/en/docs/python_metatrader5\n",
    "# ==========================================="
   ]
  },
  {
   "cell_type": "markdown",
   "id": "f77c19d7",
   "metadata": {},
   "source": [
    "2. **Yahoo Finance**  \n",
    "\n",
    "\n"
   ]
  },
  {
   "cell_type": "markdown",
   "id": "446fdcc1",
   "metadata": {},
   "source": [
    " **Libraries**"
   ]
  },
  {
   "cell_type": "code",
   "execution_count": null,
   "id": "a7f7655f",
   "metadata": {},
   "outputs": [],
   "source": [
    "# ===========================================\n",
    "# 📦 Import required libraries\n",
    "# ===========================================\n",
    "import pandas as pd  # For data manipulation (install: pip install pandas)\n",
    "import yfinance as yf  # Yahoo Finance API wrapper (install: pip install yfinance)\n",
    "from datetime import datetime, timedelta  # To work with time ranges\n",
    "from yahooquery import search  # For searching assets (install: pip install yahooquery)\n",
    "import os  # To interact with the file system\n",
    "import matplotlib.pyplot as plt  # For visualization (install: pip install matplotlib)\n",
    "import json #For data manipulation\n"
   ]
  },
  {
   "cell_type": "markdown",
   "id": "c9400860",
   "metadata": {},
   "source": [
    " **Search Assets**"
   ]
  },
  {
   "cell_type": "code",
   "execution_count": null,
   "id": "98e86d96",
   "metadata": {},
   "outputs": [
    {
     "ename": "NameError",
     "evalue": "name 'search' is not defined",
     "output_type": "error",
     "traceback": [
      "\u001b[1;31m---------------------------------------------------------------------------\u001b[0m",
      "\u001b[1;31mNameError\u001b[0m                                 Traceback (most recent call last)",
      "Cell \u001b[1;32mIn[1], line 7\u001b[0m\n\u001b[0;32m      4\u001b[0m query \u001b[38;5;241m=\u001b[39m \u001b[38;5;124m\"\u001b[39m\u001b[38;5;124mZS\u001b[39m\u001b[38;5;124m\"\u001b[39m  \u001b[38;5;66;03m# Replace with any asset name, e.g., \"Apple\", \"Bitcoin\", etc.\u001b[39;00m\n\u001b[0;32m      6\u001b[0m \u001b[38;5;66;03m# Use yahooquery to search for the asset\u001b[39;00m\n\u001b[1;32m----> 7\u001b[0m results \u001b[38;5;241m=\u001b[39m search(query)\n\u001b[0;32m      8\u001b[0m \u001b[38;5;66;03m# Convert in a list\u001b[39;00m\n\u001b[0;32m     10\u001b[0m tickers \u001b[38;5;241m=\u001b[39m []\n",
      "\u001b[1;31mNameError\u001b[0m: name 'search' is not defined"
     ]
    }
   ],
   "source": [
    "# ===========================================\n",
    "# 🔍 1. Search for a ticker symbol\n",
    "# ===========================================\n",
    "query = \"Tesla\"  # Replace with any asset name, e.g., \"Apple\", \"Bitcoin\", etc.\n",
    "\n",
    "# Use yahooquery to search for the asset\n",
    "results = search(query)\n",
    "# Convert in a list\n",
    "\n",
    "tickers = []\n",
    "\n",
    "for quote in results[\"quotes\"]:\n",
    "    tickers.append(quote[\"symbol\"])\n",
    "\n",
    "print(tickers)"
   ]
  },
  {
   "cell_type": "markdown",
   "id": "1158d53e",
   "metadata": {},
   "source": [
    "**Ticks & Bars**"
   ]
  },
  {
   "cell_type": "code",
   "execution_count": null,
   "id": "bec7319e",
   "metadata": {},
   "outputs": [
    {
     "ename": "NameError",
     "evalue": "name 'yf' is not defined",
     "output_type": "error",
     "traceback": [
      "\u001b[1;31m---------------------------------------------------------------------------\u001b[0m",
      "\u001b[1;31mNameError\u001b[0m                                 Traceback (most recent call last)",
      "Cell \u001b[1;32mIn[2], line 10\u001b[0m\n\u001b[0;32m      1\u001b[0m \u001b[38;5;66;03m# ===========================================\u001b[39;00m\n\u001b[0;32m      2\u001b[0m \u001b[38;5;66;03m# ⏬ 3. Download intraday price data\u001b[39;00m\n\u001b[0;32m      3\u001b[0m \u001b[38;5;66;03m# ===========================================\u001b[39;00m\n\u001b[1;32m   (...)\u001b[0m\n\u001b[0;32m      7\u001b[0m \n\u001b[0;32m      8\u001b[0m \u001b[38;5;66;03m# Two ways to download information\u001b[39;00m\n\u001b[0;32m      9\u001b[0m tickers \u001b[38;5;241m=\u001b[39m [\u001b[38;5;124m\"\u001b[39m\u001b[38;5;124mZS=F\u001b[39m\u001b[38;5;124m\"\u001b[39m, \u001b[38;5;124m\"\u001b[39m\u001b[38;5;124mSOYB\u001b[39m\u001b[38;5;124m\"\u001b[39m, \u001b[38;5;124m\"\u001b[39m\u001b[38;5;124mZC=F\u001b[39m\u001b[38;5;124m\"\u001b[39m,\u001b[38;5;124m\"\u001b[39m\u001b[38;5;124mCORN\u001b[39m\u001b[38;5;124m\"\u001b[39m,\u001b[38;5;124m\"\u001b[39m\u001b[38;5;124mZW=F\u001b[39m\u001b[38;5;124m\"\u001b[39m,\u001b[38;5;124m\"\u001b[39m\u001b[38;5;124mWEAT\u001b[39m\u001b[38;5;124m\"\u001b[39m,\u001b[38;5;124m\"\u001b[39m\u001b[38;5;124mCL=F\u001b[39m\u001b[38;5;124m\"\u001b[39m,\u001b[38;5;124m\"\u001b[39m\u001b[38;5;124mUSO\u001b[39m\u001b[38;5;124m\"\u001b[39m, \u001b[38;5;124m\"\u001b[39m\u001b[38;5;124mDBO\u001b[39m\u001b[38;5;124m\"\u001b[39m,\u001b[38;5;124m\"\u001b[39m\u001b[38;5;124mLIT\u001b[39m\u001b[38;5;124m\"\u001b[39m,\u001b[38;5;124m\"\u001b[39m\u001b[38;5;124mUSDARS=X\u001b[39m\u001b[38;5;124m\"\u001b[39m]\n\u001b[1;32m---> 10\u001b[0m data \u001b[38;5;241m=\u001b[39m yf\u001b[38;5;241m.\u001b[39mdownload(\n\u001b[0;32m     11\u001b[0m     tickers\u001b[38;5;241m=\u001b[39mtickers,\n\u001b[0;32m     12\u001b[0m     interval\u001b[38;5;241m=\u001b[39m\u001b[38;5;124m'\u001b[39m\u001b[38;5;124m1m\u001b[39m\u001b[38;5;124m'\u001b[39m,\n\u001b[0;32m     13\u001b[0m     period\u001b[38;5;241m=\u001b[39m\u001b[38;5;124m'\u001b[39m\u001b[38;5;124m1d\u001b[39m\u001b[38;5;124m'\u001b[39m,\n\u001b[0;32m     14\u001b[0m     group_by\u001b[38;5;241m=\u001b[39m\u001b[38;5;124m'\u001b[39m\u001b[38;5;124mticker\u001b[39m\u001b[38;5;124m'\u001b[39m,\n\u001b[0;32m     15\u001b[0m     progress\u001b[38;5;241m=\u001b[39m\u001b[38;5;28;01mTrue\u001b[39;00m,\n\u001b[0;32m     16\u001b[0m     threads\u001b[38;5;241m=\u001b[39m\u001b[38;5;28;01mTrue\u001b[39;00m  \u001b[38;5;66;03m# Enable multi-threading for faster downloading\u001b[39;00m\n\u001b[0;32m     17\u001b[0m )\n\u001b[0;32m     21\u001b[0m data\u001b[38;5;241m.\u001b[39mhead()\n",
      "\u001b[1;31mNameError\u001b[0m: name 'yf' is not defined"
     ]
    }
   ],
   "source": [
    "# ===========================================\n",
    "# ⏬ 3. Download intraday price data\n",
    "# ===========================================\n",
    "# You can modify 'interval' and 'period' as needed\n",
    "# Available intervals: '1m', '2m', '5m', '15m', '1h', '1d', etc.\n",
    "# Available periods: '1d', '5d', '1mo', '6mo', '1y', etc.\n",
    "\n",
    "# Two ways to download information\n",
    "# Download grouped data for all S&P 500 tickers\n",
    "data = yf.download(\n",
    "    tickers=tickers,\n",
    "    interval='1m',\n",
    "    period='1d',\n",
    "    group_by='ticker',\n",
    "    progress=True,\n",
    "    threads=True  # Enable multi-threading for faster downloading\n",
    ")\n",
    "\n",
    "# Example: Download SPY data separately (for comparison or benchmarking)\n",
    "spy = yf.download(\"SPY\", interval='1m', period='1d')\n",
    "\n",
    "\n",
    "data.head()\n",
    "spy.head()\n",
    "\n",
    "# ===========================================\n",
    "# 🧠 Tips for further generalization\n",
    "# ===========================================\n",
    "# - You can adapt the script to download daily or weekly historical data\n",
    "# - You could filter tickers by sector or industry if needed\n",
    "# - Add error handling to skip failed downloads\n",
    "\n",
    "# ===========================================\n",
    "# 📘 Reference:\n",
    "# yfinance documentation and GitHub:\n",
    "# https://github.com/ranaroussi/yfinance\n",
    "# ==========================================="
   ]
  },
  {
   "cell_type": "markdown",
   "id": "9f2e5317-6549-43de-8bb0-8bf60b556239",
   "metadata": {},
   "source": [
    "3. **Alpaca** \n",
    "\n",
    "---"
   ]
  },
  {
   "cell_type": "markdown",
   "id": "e72ce00c",
   "metadata": {},
   "source": [
    " **Libraries**"
   ]
  },
  {
   "cell_type": "code",
   "execution_count": null,
   "id": "7dae1d5e",
   "metadata": {},
   "outputs": [],
   "source": [
    "# ===========================================\n",
    "# Import required libraries\n",
    "# ===========================================\n",
    "\n",
    "import os  # Access to environment variables\n",
    "from dotenv import load_dotenv  # Load .env file variables\n",
    "from alpaca.data.historical import stock  # Historical market data\n",
    "from alpaca.trading.client import TradingClient  # Trading account access\n",
    "from alpaca.data.requests import StockBarsRequest  # Request format for stock bars\n",
    "from alpaca.data.timeframe import TimeFrame  # Time interval definitions\n",
    "from datetime import datetime, date, timedelta  # Date and time handling\n",
    "from alpaca.trading.requests import GetAssetsRequest  # For asset filtering\n",
    "from alpaca.trading.enums import AssetStatus  # Enum to filter by asset status\n",
    "import pandas as pd  # Data manipulation and display"
   ]
  },
  {
   "cell_type": "markdown",
   "id": "5de31aea",
   "metadata": {},
   "source": [
    " **Log in**  "
   ]
  },
  {
   "cell_type": "code",
   "execution_count": null,
   "id": "b01df5eb",
   "metadata": {},
   "outputs": [],
   "source": [
    "# Load environment variables from the .env file\n",
    "load_dotenv()\n",
    "\n",
    "# Get the API keys from the environment variables\n",
    "api_key = os.getenv('ALPACA_KEY')\n",
    "api_secret = os.getenv('ALPACA_SECRET')\n",
    "\n",
    "# If API keys are not found, raise an error\n",
    "if not api_key or not api_secret:\n",
    "    raise EnvironmentError(\"Alpaca API environment variables are not set.\")\n",
    "\n",
    "# Alpaca API instance\n",
    "api = stock.StockHistoricalDataClient(api_key=api_key, secret_key=api_secret)\n",
    "\n",
    "# Instance client\n",
    "client = TradingClient(api_key, api_secret, paper=True)"
   ]
  },
  {
   "cell_type": "markdown",
   "id": "5bd80e35",
   "metadata": {},
   "source": [
    " **Search Assets**"
   ]
  },
  {
   "cell_type": "code",
   "execution_count": null,
   "id": "2417a6f7",
   "metadata": {},
   "outputs": [
    {
     "name": "stdout",
     "output_type": "stream",
     "text": [
      "12286\n",
      "AUVPQ APPLIED UV INC NV PFD SER A\n",
      "MOHOY ECMOHO LTD American Depositary Receipts - Sponsored (Cayman Islands)\n",
      "DMSLQ DIGITAL MEDIA SOLUTIONS INC CL A NEW\n",
      "ALSTF ALPHA STAR ACQUISITION CORP Rights   12/13/2026\n",
      "OFED OCONEE FED FINL CORP Common Stock\n",
      "Symbol: AAPL\n",
      "Name: Apple Inc. Common Stock\n",
      "Exchange: AssetExchange.NASDAQ\n",
      "Tradable: True\n"
     ]
    }
   ],
   "source": [
    "\n",
    "# Create asset request (e.g. only active assets)\n",
    "request = GetAssetsRequest(status=AssetStatus.ACTIVE)\n",
    "\n",
    "# Get list of assets\n",
    "assets = client.get_all_assets(request)\n",
    "\n",
    "# Number of assests\n",
    "print(len(assets))\n",
    "\n",
    "# Display first few assets\n",
    "for asset in assets[:5]:\n",
    "    print(asset.symbol, asset.name)\n",
    "\n",
    "# Search for a specific asset by its symbol\n",
    "symbol = \"AAPL\"\n",
    "asset = trading_client.get_asset(symbol)\n",
    "\n",
    "# Display basic info\n",
    "print(f\"Symbol: {asset.symbol}\")\n",
    "print(f\"Name: {asset.name}\")\n",
    "print(f\"Exchange: {asset.exchange}\")\n",
    "print(f\"Tradable: {asset.tradable}\")"
   ]
  },
  {
   "cell_type": "markdown",
   "id": "413011b2",
   "metadata": {},
   "source": [
    "**Ticks & Bars**"
   ]
  },
  {
   "cell_type": "code",
   "execution_count": null,
   "id": "d575e575",
   "metadata": {},
   "outputs": [
    {
     "name": "stdout",
     "output_type": "stream",
     "text": [
      "                          symbol     open      high       low   close  \\\n",
      "timestamp                                                               \n",
      "2025-05-01 04:00:00+00:00   AAPL  209.080  214.5600  208.9000  213.32   \n",
      "2025-04-30 04:00:00+00:00   AAPL  209.300  213.5800  206.6705  212.50   \n",
      "2025-04-29 04:00:00+00:00   AAPL  208.693  212.2400  208.3700  211.21   \n",
      "2025-04-28 04:00:00+00:00   AAPL  210.000  211.5000  207.4600  210.14   \n",
      "2025-04-25 04:00:00+00:00   AAPL  206.365  209.7500  206.2000  209.28   \n",
      "2025-04-24 04:00:00+00:00   AAPL  204.890  208.8299  202.9400  208.37   \n",
      "2025-04-23 04:00:00+00:00   AAPL  206.000  208.0000  202.7990  204.60   \n",
      "2025-04-22 04:00:00+00:00   AAPL  196.120  201.5900  195.9700  199.74   \n",
      "2025-04-21 04:00:00+00:00   AAPL  193.265  193.8000  189.8112  193.16   \n",
      "2025-04-17 04:00:00+00:00   AAPL  197.200  198.8335  194.4200  196.98   \n",
      "2025-04-16 04:00:00+00:00   AAPL  198.360  200.7000  192.3700  194.27   \n",
      "2025-04-15 04:00:00+00:00   AAPL  201.855  203.5100  199.8000  202.14   \n",
      "2025-04-14 04:00:00+00:00   AAPL  211.440  212.9400  201.1621  202.52   \n",
      "2025-04-11 04:00:00+00:00   AAPL  186.100  199.5400  186.0600  198.15   \n",
      "2025-04-10 04:00:00+00:00   AAPL  189.065  194.7799  183.0000  190.42   \n",
      "2025-04-09 04:00:00+00:00   AAPL  171.950  200.6100  171.8900  198.85   \n",
      "2025-04-08 04:00:00+00:00   AAPL  186.700  190.3350  169.2101  172.42   \n",
      "2025-04-07 04:00:00+00:00   AAPL  177.200  194.1500  174.6200  181.46   \n",
      "2025-04-04 04:00:00+00:00   AAPL  193.890  199.8800  187.3400  188.38   \n",
      "2025-04-03 04:00:00+00:00   AAPL  205.540  207.4900  201.2500  203.19   \n",
      "2025-04-02 04:00:00+00:00   AAPL  221.315  225.1900  221.0200  223.89   \n",
      "\n",
      "                                volume  trade_count        vwap  \n",
      "timestamp                                                        \n",
      "2025-05-01 04:00:00+00:00   56793519.0     702135.0  212.464882  \n",
      "2025-04-30 04:00:00+00:00   52286454.0     501667.0  211.321946  \n",
      "2025-04-29 04:00:00+00:00   36827633.0     403524.0  211.011514  \n",
      "2025-04-28 04:00:00+00:00   38743074.0     436969.0  209.664384  \n",
      "2025-04-25 04:00:00+00:00   38222258.0     469917.0  208.424899  \n",
      "2025-04-24 04:00:00+00:00   47310989.0     490831.0  207.133886  \n",
      "2025-04-23 04:00:00+00:00   52929165.0     664354.0  205.344795  \n",
      "2025-04-22 04:00:00+00:00   52976297.0     608787.0  199.219833  \n",
      "2025-04-21 04:00:00+00:00   46742537.0     576340.0  191.966857  \n",
      "2025-04-17 04:00:00+00:00   52164408.0     537912.0  196.897749  \n",
      "2025-04-16 04:00:00+00:00   59732423.0     744249.0  195.847681  \n",
      "2025-04-15 04:00:00+00:00   51343872.0     595846.0  202.184277  \n",
      "2025-04-14 04:00:00+00:00  101352911.0    1272714.0  205.417854  \n",
      "2025-04-11 04:00:00+00:00   87435915.0    1073191.0  195.686718  \n",
      "2025-04-10 04:00:00+00:00  121879981.0    1500041.0  189.875437  \n",
      "2025-04-09 04:00:00+00:00  184386792.0    2212850.0  188.345233  \n",
      "2025-04-08 04:00:00+00:00  120853216.0    1671395.0  179.164809  \n",
      "2025-04-07 04:00:00+00:00  160466286.0    2117015.0  180.473950  \n",
      "2025-04-04 04:00:00+00:00  125908914.0    1716108.0  192.430879  \n",
      "2025-04-03 04:00:00+00:00  103418915.0    1366636.0  204.016333  \n",
      "2025-04-02 04:00:00+00:00   35905904.0     473114.0  223.770488  \n"
     ]
    }
   ],
   "source": [
    "\n",
    "# Define the ticker (e.g., 'AAPL' for Apple)\n",
    "ticker = \"AAPL\"  # You can change this to the ticker of your preference\n",
    "interval = \"day\"  # Time interval (can be 'minute', 'hour', 'day', 'week', 'month')\n",
    "days = 30  # Number of historical days to fetch\n",
    "\n",
    "# Assign the time interval based on the provided value\n",
    "if interval == \"minute\":\n",
    "    timeframe = TimeFrame.Minute\n",
    "elif interval == \"hour\":\n",
    "    timeframe = TimeFrame.Hour\n",
    "elif interval == \"day\":\n",
    "    timeframe = TimeFrame.Day\n",
    "elif interval == \"week\":\n",
    "    timeframe = TimeFrame.Week\n",
    "elif interval == \"month\":\n",
    "    timeframe = TimeFrame.Month\n",
    "else:\n",
    "    raise ValueError(\"Invalid interval. It should be 'minute', 'hour', 'day', 'week', or 'month'.\")\n",
    "\n",
    "# Define the start date\n",
    "start = date.today() - timedelta(days=days)\n",
    "\n",
    "# Request historical data for the specific ticker\n",
    "request = StockBarsRequest(\n",
    "    symbol_or_symbols=ticker,\n",
    "    timeframe=timeframe,\n",
    "    start=start,\n",
    "    sort=\"desc\"\n",
    ")\n",
    "\n",
    "\n",
    "def convert_to_dataframe(data):\n",
    "    \"\"\"\n",
    "    Converts a list of tuples into a Pandas DataFrame with separated columns and timestamp as index.\n",
    "\n",
    "    Args:\n",
    "    - data (list): List of tuples containing historical data.\n",
    "\n",
    "    Returns:\n",
    "    - pd.DataFrame: DataFrame with appropriate columns.\n",
    "    \"\"\"\n",
    "    # Create a list of dictionaries, where each dictionary represents a row.\n",
    "    data_dict = []\n",
    "    for item in data:\n",
    "        row = {}\n",
    "        for i in item:\n",
    "            # Unpack the tuples and assign them to corresponding columns\n",
    "            key, value = i\n",
    "            row[key] = value\n",
    "        data_dict.append(row)\n",
    "    \n",
    "    # Convert the list of dictionaries into a DataFrame\n",
    "    df = pd.DataFrame(data_dict)\n",
    "    \n",
    "    # Convert the timestamp to index and ensure it is in datetime format\n",
    "    df['timestamp'] = pd.to_datetime(df['timestamp'])\n",
    "    df.set_index('timestamp', inplace=True)\n",
    "    \n",
    "    return df\n",
    "\n",
    "try:\n",
    "    # Fetch historical data\n",
    "    chart_resp = api.get_stock_bars(request)\n",
    "    \n",
    "    # Check if the response contains data\n",
    "    if chart_resp:\n",
    "        # chart_resp[ticker] is a list of tuples\n",
    "        data = chart_resp[ticker]  # List of tuples for the symbol\n",
    "        \n",
    "        # Convert the list of tuples into a DataFrame\n",
    "        df = convert_to_dataframe(data)\n",
    "        \n",
    "        # Display the DataFrame\n",
    "        print(df)\n",
    "    else:\n",
    "        print(f\"No data found for {ticker}\")\n",
    "except Exception as e:\n",
    "    print(f\"Error fetching data for {ticker}: {e}\")\n",
    "\n",
    "\n",
    "\n"
   ]
  },
  {
   "cell_type": "markdown",
   "id": "cc220639-d000-4f96-81ce-e6fad69ec30d",
   "metadata": {},
   "source": [
    "# Cointegration Test\n",
    "\n",
    "You can use the **Engle-Granger** or **Johansen** test to check for cointegration between two time series.\n",
    "\n",
    "---"
   ]
  },
  {
   "cell_type": "markdown",
   "id": "fc014ee9-07eb-4347-aa1a-f2c9cc6ecf90",
   "metadata": {},
   "source": [
    "# Modeling the Strategy\n",
    "\n",
    "You will use techniques such as z-scores, Bollinger Bands, and linear regression to model your strategy.\n",
    "\n",
    "---"
   ]
  },
  {
   "cell_type": "markdown",
   "id": "881829f0-17d6-492a-85ad-033554c7cd32",
   "metadata": {},
   "source": [
    "# Strategy Results and interpretation\n",
    "\n",
    "Evaluate the strategy's performance using metrics like returns, Sharpe ratio, and drawdowns."
   ]
  },
  {
   "cell_type": "code",
   "execution_count": null,
   "id": "4ab96712-7cec-4ec1-abc9-33d075bf731c",
   "metadata": {},
   "outputs": [],
   "source": []
  }
 ],
 "metadata": {
  "kernelspec": {
   "display_name": "Python (mi_entorno)",
   "language": "python",
   "name": "mi_entorno"
  },
  "language_info": {
   "codemirror_mode": {
    "name": "ipython",
    "version": 3
   },
   "file_extension": ".py",
   "mimetype": "text/x-python",
   "name": "python",
   "nbconvert_exporter": "python",
   "pygments_lexer": "ipython3",
   "version": "3.12.4"
  }
 },
 "nbformat": 4,
 "nbformat_minor": 5
}
